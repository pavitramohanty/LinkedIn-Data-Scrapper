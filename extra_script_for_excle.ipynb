{
 "cells": [
  {
   "cell_type": "code",
   "execution_count": 11,
   "metadata": {},
   "outputs": [],
   "source": [
    "import requests, time, random\n",
    "from bs4 import BeautifulSoup\n",
    "from selenium import webdriver\n",
    "import pandas as pd\n",
    "import time\n"
   ]
  },
  {
   "cell_type": "code",
   "execution_count": 12,
   "metadata": {},
   "outputs": [],
   "source": [
    "browser = webdriver.Chrome('C:/Users/Admin/Desktop/LinkedIn-Profile-Scrapper-in-Python-master/chromedriver.exe')\n",
    "browser.get('https://www.linkedin.com/uas/login')\n",
    "file = open('config.txt')\n",
    "lines = file.readlines()\n",
    "username = lines[0]\n",
    "password = lines[1]\n",
    "\n",
    "\n",
    "elementID = browser.find_element_by_id('username')\n",
    "elementID.send_keys(username)\n",
    "\n",
    "elementID = browser.find_element_by_id('password')\n",
    "elementID.send_keys(password)\n",
    "\n",
    "elementID.submit()\n"
   ]
  },
  {
   "cell_type": "code",
   "execution_count": null,
   "metadata": {},
   "outputs": [],
   "source": [
    "df = pd.read_csv(\"C:/Users/Admin/Desktop/linkedin_name.csv\") \n",
    "#print(df[['Lname','Fname']])\n",
    "URL=[]\n",
    "for i in range(0,len(df)):\n",
    "    link=\"https://www.linkedin.com/search/results/people/?facetSchool=%5B%2210880%22%5D&keywords=\"+df.iloc[i][0]+\"%20\"+df.iloc[i][1]+\"&origin=FACETED_SEARCH\"\n",
    "    URL.append(link)\n",
    "#    print(URL)\n",
    "print(URL)\n",
    "for link in URL:\n",
    "#URL=\"https://www.linkedin.com/search/results/people/?facetSchool=%5B%2210880%22%5D&keywords=Patel%20Het&origin=FACETED_SEARCH\"\n",
    "    browser.get(link)\n",
    "    src = browser.page_source\n",
    "    soup = BeautifulSoup(src, 'lxml')\n",
    "    id=soup.find_all('div',{'class':'search-result__info pt3 pb4 ph0'})\n",
    "    list_url=[]\n",
    "    for a in id:\n",
    "        url=\"https://www.linkedin.com\"+a.find('a')['href']\n",
    "        list_url.append(url)\n",
    "        print(\"Found the URL:\"+ url )\n",
    "    Profile_link=list_url\n",
    "    result=pd.DataFrame(columns=\"Link\",data=Profile_link) \n",
    "    #result = result[result.Link != 0]\n",
    "    result.to_csv(\"C:/Users/Admin/Desktop/output.csv\",mode='a')\n",
    "    time.sleep(2)"
   ]
  },
  {
   "cell_type": "code",
   "execution_count": 27,
   "metadata": {},
   "outputs": [
    {
     "name": "stdout",
     "output_type": "stream",
     "text": [
      "                                                 Link\n",
      "11        https://www.linkedin.com/in/agarwal-saurav/\n",
      "21          https://www.linkedin.com/in/ankitmehta19/\n",
      "41   https://www.linkedin.com/in/het-patel-7629b519a/\n",
      "40    https://www.linkedin.com/in/het-patel-8518a599/\n",
      "9   https://www.linkedin.com/in/karmanjot-singh-95...\n",
      "53               https://www.linkedin.com/in/m-patel/\n",
      "2   https://www.linkedin.com/in/meet-patel-0001b51a2/\n",
      "54  https://www.linkedin.com/in/meet-patel-26948113b/\n",
      "27  https://www.linkedin.com/in/meet-patel-401912184/\n",
      "55   https://www.linkedin.com/in/meet-patel-8844a9a3/\n",
      "1                https://www.linkedin.com/in/meet329/\n",
      "15  https://www.linkedin.com/in/nishtha-patel-a3b5...\n",
      "39              https://www.linkedin.com/in/patel1ik/\n",
      "35               https://www.linkedin.com/in/prakort/\n",
      "29  https://www.linkedin.com/in/smarth-kukreja-600...\n"
     ]
    }
   ],
   "source": [
    "df1 = pd.read_csv(\"C:/Users/Admin/Desktop/output.csv\") \n",
    "df1.sort_values(\"Link\", inplace = True)\n",
    "df1=df1.drop_duplicates(subset=['Link'],keep='first')\n",
    "df1=df1[1:]\n",
    "df1 = df1.drop(df1.columns[[0]], axis=1)\n",
    "#df1=df1['Link']\n",
    "df1.to_csv(\"C:/Users/Admin/Desktop/final_output.csv\")\n",
    "print(df1)"
   ]
  },
  {
   "cell_type": "code",
   "execution_count": 13,
   "metadata": {},
   "outputs": [],
   "source": [
    "SCROLL_PAUSE_TIME = 5\n",
    "\n",
    "# Get scroll height\n",
    "last_height = browser.execute_script(\"return document.body.scrollHeight\")\n",
    "\n",
    "for i in range(3):\n",
    "    # Scroll down to bottom\n",
    "    browser.execute_script(\"window.scrollTo(0, document.body.scrollHeight);\")\n",
    "\n",
    "    # Wait to load page\n",
    "    time.sleep(SCROLL_PAUSE_TIME)\n",
    "\n",
    "    # Calculate new scroll height and compare with last scroll height\n",
    "    new_height = browser.execute_script(\"return document.body.scrollHeight\")\n",
    "    if new_height == last_height:\n",
    "        break\n",
    "    last_height = new_height"
   ]
  },
  {
   "cell_type": "code",
   "execution_count": 14,
   "metadata": {},
   "outputs": [
    {
     "name": "stdout",
     "output_type": "stream",
     "text": [
      "['https://www.linkedin.com/in/ankitmehta19/', 'https://www.linkedin.com/in/het-patel-7629b519a/', 'https://www.linkedin.com/in/het-patel-8518a599/', 'https://www.linkedin.com/in/karmanjot-singh-95031593/', 'https://www.linkedin.com/in/m-patel/', 'https://www.linkedin.com/in/meet-patel-0001b51a2/', 'https://www.linkedin.com/in/meet-patel-26948113b/', 'https://www.linkedin.com/in/meet-patel-401912184/', 'https://www.linkedin.com/in/meet-patel-8844a9a3/', 'https://www.linkedin.com/in/meet329/', 'https://www.linkedin.com/in/nishtha-patel-a3b58b19b/', 'https://www.linkedin.com/in/patel1ik/', 'https://www.linkedin.com/in/prakort/', 'https://www.linkedin.com/in/smarth-kukreja-600919aa/']\n"
     ]
    }
   ],
   "source": [
    "link_from_csv=pd.read_csv('C:/Users/Admin/Desktop/final_output.csv')\n",
    "#print(link_from_csv.head())\n",
    "final_list=link_from_csv[1:]\n",
    "profile_list=list()\n",
    "profile_list=final_list['Link'].tolist()\n",
    "print(profile_list)"
   ]
  },
  {
   "cell_type": "code",
   "execution_count": 15,
   "metadata": {},
   "outputs": [
    {
     "name": "stdout",
     "output_type": "stream",
     "text": [
      "['https://www.linkedin.com/in/ankitmehta19/', 'Ankit (Mehta) Mehta', 'Graduate Student  at University of Windsor', 'Ontario, Canada', '500+ connections']\n",
      "['https://www.linkedin.com/in/ankitmehta19/', 'Ankit (Mehta) Mehta', 'Graduate Student  at University of Windsor', 'Ontario, Canada', '500+ connections', 'University of Windsor', 'Masters of Applied Science', 'Electrical and Computer Engineering', '2015 – 2016']\n",
      "['https://www.linkedin.com/in/het-patel-7629b519a/', 'Het Patel', 'Student at University of Windsor', 'Ontario, Canada', 'Contact info']\n"
     ]
    },
    {
     "ename": "AttributeError",
     "evalue": "'NoneType' object has no attribute 'find'",
     "output_type": "error",
     "traceback": [
      "\u001b[1;31m---------------------------------------------------------------------------\u001b[0m",
      "\u001b[1;31mAttributeError\u001b[0m                            Traceback (most recent call last)",
      "\u001b[1;32m<ipython-input-15-b2a0a2c8d1fd>\u001b[0m in \u001b[0;36m<module>\u001b[1;34m\u001b[0m\n\u001b[0;32m     20\u001b[0m     \u001b[1;31m#experience\u001b[0m\u001b[1;33m\u001b[0m\u001b[1;33m\u001b[0m\u001b[1;33m\u001b[0m\u001b[0m\n\u001b[0;32m     21\u001b[0m     \u001b[0mexp_section\u001b[0m \u001b[1;33m=\u001b[0m \u001b[0msoup\u001b[0m\u001b[1;33m.\u001b[0m\u001b[0mfind\u001b[0m\u001b[1;33m(\u001b[0m\u001b[1;34m'section'\u001b[0m\u001b[1;33m,\u001b[0m \u001b[1;33m{\u001b[0m\u001b[1;34m'id'\u001b[0m\u001b[1;33m:\u001b[0m \u001b[1;34m'experience-section'\u001b[0m\u001b[1;33m}\u001b[0m\u001b[1;33m)\u001b[0m\u001b[1;31m#.find('ul')\u001b[0m\u001b[1;33m\u001b[0m\u001b[1;33m\u001b[0m\u001b[0m\n\u001b[1;32m---> 22\u001b[1;33m     \u001b[0mexp_section\u001b[0m \u001b[1;33m=\u001b[0m \u001b[0mexp_section\u001b[0m\u001b[1;33m.\u001b[0m\u001b[0mfind\u001b[0m\u001b[1;33m(\u001b[0m\u001b[1;34m'ul'\u001b[0m\u001b[1;33m)\u001b[0m\u001b[1;33m\u001b[0m\u001b[1;33m\u001b[0m\u001b[0m\n\u001b[0m\u001b[0;32m     23\u001b[0m     \u001b[0mli_tags\u001b[0m \u001b[1;33m=\u001b[0m \u001b[0mexp_section\u001b[0m\u001b[1;33m.\u001b[0m\u001b[0mfind\u001b[0m\u001b[1;33m(\u001b[0m\u001b[1;34m'div'\u001b[0m\u001b[1;33m)\u001b[0m\u001b[1;33m\u001b[0m\u001b[1;33m\u001b[0m\u001b[0m\n\u001b[0;32m     24\u001b[0m     \u001b[0ma_tags\u001b[0m \u001b[1;33m=\u001b[0m \u001b[0mli_tags\u001b[0m\u001b[1;33m.\u001b[0m\u001b[0mfind\u001b[0m\u001b[1;33m(\u001b[0m\u001b[1;34m'a'\u001b[0m\u001b[1;33m)\u001b[0m\u001b[1;33m\u001b[0m\u001b[1;33m\u001b[0m\u001b[0m\n",
      "\u001b[1;31mAttributeError\u001b[0m: 'NoneType' object has no attribute 'find'"
     ]
    }
   ],
   "source": [
    "for profile_link in profile_list:\n",
    "    browser.get(profile_link)\n",
    "    src = browser.page_source\n",
    "    soup = BeautifulSoup(src, 'lxml')\n",
    "    name_div = soup.find('div', {'class': 'flex-1 mr5'})\n",
    "    name_loc = name_div.find_all('ul')\n",
    "    name = name_loc[0].find('li').get_text().strip()\n",
    "    loc = name_loc[1].find('li').get_text().strip()\n",
    "    profile_title = name_div.find('h2').get_text().strip()\n",
    "    connection = name_loc[1].find_all('li')\n",
    "    connection = connection[1].get_text().strip()\n",
    "    info = []\n",
    "    info.append(profile_link)\n",
    "    info.append(name)\n",
    "    info.append(profile_title)\n",
    "    info.append(loc)\n",
    "    info.append(connection)\n",
    "    print(info)\n",
    "    \n",
    "    #experience\n",
    "    exp_section = soup.find('section', {'id': 'experience-section'})#.find('ul')\n",
    "    exp_section = exp_section.find('ul')\n",
    "    li_tags = exp_section.find('div')\n",
    "    a_tags = li_tags.find('a')\n",
    "\n",
    "    job_title = a_tags.find('h3').get_text().strip()\n",
    "    company_name = a_tags.find_all('p')[1].get_text().strip()\n",
    "    exp = a_tags.find_all('h4')[1].find_all('span')[1].get_text().strip()\n",
    "\n",
    "    #education\n",
    "    edu_section = soup.find('section', {'id': 'education-section'}).find('ul')\n",
    "    college_name = edu_section.find('h3').get_text().strip()\n",
    "    degree_name = edu_section.find('p', {'class': 'pv-entity__secondary-title pv-entity__degree-name t-14 t-black t-normal'}).find_all('span')[1].get_text().strip()\n",
    "    stream = edu_section.find('p', {'class': 'pv-entity__secondary-title pv-entity__fos t-14 t-black t-normal'}).find_all('span')[1].get_text().strip()\n",
    "    degree_year = edu_section.find('p', {'class': 'pv-entity__dates t-14 t-black--light t-normal'}).find_all('span')[1].get_text().strip()\n",
    "    #info\n",
    "    info.append(college_name)\n",
    "    info.append(degree_name)\n",
    "    info.append(stream)\n",
    "    info.append(degree_year)\n",
    "    print(info)"
   ]
  },
  {
   "cell_type": "code",
   "execution_count": null,
   "metadata": {},
   "outputs": [],
   "source": []
  },
  {
   "cell_type": "code",
   "execution_count": null,
   "metadata": {},
   "outputs": [],
   "source": []
  },
  {
   "cell_type": "code",
   "execution_count": null,
   "metadata": {},
   "outputs": [],
   "source": [
    "#link='https://www.linkedin.com/in/pavitrakumar-m-089b51105/'\n",
    "#link = 'https://www.linkedin.com/in/rishabh-singh-61b706114/'\n",
    "link = 'https://www.linkedin.com/in/simran-gandhi-024593128/'\n",
    "#link = 'https://www.linkedin.com/in/smriti-handa-0636045/'\n",
    "#link = 'https://www.linkedin.com/in/charan-nadendla-858a17120/'\n",
    "#link = 'https://www.linkedin.com/in/mayank-agrawal-1a5883148/'\n",
    "browser.get(link)"
   ]
  },
  {
   "cell_type": "code",
   "execution_count": 16,
   "metadata": {},
   "outputs": [
    {
     "ename": "NameError",
     "evalue": "name 'link' is not defined",
     "output_type": "error",
     "traceback": [
      "\u001b[1;31m---------------------------------------------------------------------------\u001b[0m",
      "\u001b[1;31mNameError\u001b[0m                                 Traceback (most recent call last)",
      "\u001b[1;32m<ipython-input-16-b6e499d48513>\u001b[0m in \u001b[0;36m<module>\u001b[1;34m\u001b[0m\n\u001b[0;32m      9\u001b[0m \u001b[0mconnection\u001b[0m \u001b[1;33m=\u001b[0m \u001b[0mconnection\u001b[0m\u001b[1;33m[\u001b[0m\u001b[1;36m1\u001b[0m\u001b[1;33m]\u001b[0m\u001b[1;33m.\u001b[0m\u001b[0mget_text\u001b[0m\u001b[1;33m(\u001b[0m\u001b[1;33m)\u001b[0m\u001b[1;33m.\u001b[0m\u001b[0mstrip\u001b[0m\u001b[1;33m(\u001b[0m\u001b[1;33m)\u001b[0m\u001b[1;33m\u001b[0m\u001b[1;33m\u001b[0m\u001b[0m\n\u001b[0;32m     10\u001b[0m \u001b[0minfo\u001b[0m \u001b[1;33m=\u001b[0m \u001b[1;33m[\u001b[0m\u001b[1;33m]\u001b[0m\u001b[1;33m\u001b[0m\u001b[1;33m\u001b[0m\u001b[0m\n\u001b[1;32m---> 11\u001b[1;33m \u001b[0minfo\u001b[0m\u001b[1;33m.\u001b[0m\u001b[0mappend\u001b[0m\u001b[1;33m(\u001b[0m\u001b[0mlink\u001b[0m\u001b[1;33m)\u001b[0m\u001b[1;33m\u001b[0m\u001b[1;33m\u001b[0m\u001b[0m\n\u001b[0m\u001b[0;32m     12\u001b[0m \u001b[0minfo\u001b[0m\u001b[1;33m.\u001b[0m\u001b[0mappend\u001b[0m\u001b[1;33m(\u001b[0m\u001b[0mname\u001b[0m\u001b[1;33m)\u001b[0m\u001b[1;33m\u001b[0m\u001b[1;33m\u001b[0m\u001b[0m\n\u001b[0;32m     13\u001b[0m \u001b[0minfo\u001b[0m\u001b[1;33m.\u001b[0m\u001b[0mappend\u001b[0m\u001b[1;33m(\u001b[0m\u001b[0mprofile_title\u001b[0m\u001b[1;33m)\u001b[0m\u001b[1;33m\u001b[0m\u001b[1;33m\u001b[0m\u001b[0m\n",
      "\u001b[1;31mNameError\u001b[0m: name 'link' is not defined"
     ]
    }
   ],
   "source": [
    "src = browser.page_source\n",
    "soup = BeautifulSoup(src, 'lxml')\n",
    "name_div = soup.find('div', {'class': 'flex-1 mr5'})\n",
    "name_loc = name_div.find_all('ul')\n",
    "name = name_loc[0].find('li').get_text().strip()\n",
    "loc = name_loc[1].find('li').get_text().strip()\n",
    "profile_title = name_div.find('h2').get_text().strip()\n",
    "connection = name_loc[1].find_all('li')\n",
    "connection = connection[1].get_text().strip()\n",
    "info = []\n",
    "info.append(link)\n",
    "info.append(name)\n",
    "info.append(profile_title)\n",
    "info.append(loc)\n",
    "info.append(connection)\n",
    "info\n",
    "\n",
    "#experience\n",
    "exp_section = soup.find('section', {'id': 'experience-section'})\n",
    "exp_section = exp_section.find('ul')\n",
    "li_tags = exp_section.find('div')\n",
    "a_tags = li_tags.find('a')\n",
    "\n",
    "job_title = a_tags.find('h3').get_text().strip()\n",
    "company_name = a_tags.find_all('p')[1].get_text().strip()\n",
    "exp = a_tags.find_all('h4')[1].find_all('span')[1].get_text().strip()\n",
    "\n",
    "#education\n",
    "edu_section = soup.find('section', {'id': 'education-section'}).find('ul')\n",
    "college_name = edu_section.find('h3').get_text().strip()\n",
    "degree_name = edu_section.find('p', {'class': 'pv-entity__secondary-title pv-entity__degree-name t-14 t-black t-normal'}).find_all('span')[1].get_text().strip()\n",
    "stream = edu_section.find('p', {'class': 'pv-entity__secondary-title pv-entity__fos t-14 t-black t-normal'}).find_all('span')[1].get_text().strip()\n",
    "degree_year = edu_section.find('p', {'class': 'pv-entity__dates t-14 t-black--light t-normal'}).find_all('span')[1].get_text().strip()\n",
    "#info\n",
    "info.append(college_name)\n",
    "info.append(degree_name)\n",
    "info.append(stream)\n",
    "info.append(degree_year)\n"
   ]
  },
  {
   "cell_type": "code",
   "execution_count": null,
   "metadata": {},
   "outputs": [],
   "source": []
  }
 ],
 "metadata": {
  "kernelspec": {
   "display_name": "Python 3",
   "language": "python",
   "name": "python3"
  },
  "language_info": {
   "codemirror_mode": {
    "name": "ipython",
    "version": 3
   },
   "file_extension": ".py",
   "mimetype": "text/x-python",
   "name": "python",
   "nbconvert_exporter": "python",
   "pygments_lexer": "ipython3",
   "version": "3.7.1"
  }
 },
 "nbformat": 4,
 "nbformat_minor": 2
}
